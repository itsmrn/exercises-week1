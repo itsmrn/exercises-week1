{
 "cells": [
  {
   "cell_type": "markdown",
   "id": "f5f35bb0",
   "metadata": {},
   "source": [
    "#### Exercise 1.1"
   ]
  },
  {
   "cell_type": "markdown",
   "id": "8aef2eba",
   "metadata": {},
   "source": [
    "Here is a list [\"Hello\", \"I\", “Michael”, “am”]"
   ]
  },
  {
   "cell_type": "code",
   "execution_count": 1,
   "id": "25bf3dc2",
   "metadata": {},
   "outputs": [
    {
     "name": "stdout",
     "output_type": "stream",
     "text": [
      "['Hello', 'I', 'am', 'Michael']\n"
     ]
    }
   ],
   "source": [
    "michael = [\"Hello\", \"I\", \"Michael\", \"am\"]\n",
    "michael_new = [0,1,3,2]\n",
    "\n",
    "michael = [michael[word] for word in michael_new]\n",
    "print(michael)\n"
   ]
  },
  {
   "cell_type": "markdown",
   "id": "2c828182",
   "metadata": {},
   "source": [
    "#### Exercise 1.2"
   ]
  },
  {
   "cell_type": "code",
   "execution_count": 2,
   "id": "0f6cba89",
   "metadata": {},
   "outputs": [
    {
     "name": "stdout",
     "output_type": "stream",
     "text": [
      "[9, 12, 16, 34, 58]\n",
      "[58, 34, 16, 12, 9]\n"
     ]
    }
   ],
   "source": [
    "age = [12, 16, 34, 58, 9]\n",
    "\n",
    "age.sort()\n",
    "print(age)\n",
    "\n",
    "age.sort (reverse=True)\n",
    "print(age)"
   ]
  },
  {
   "cell_type": "markdown",
   "id": "df777985",
   "metadata": {},
   "source": [
    "#### Exercise 2.1"
   ]
  },
  {
   "cell_type": "code",
   "execution_count": 3,
   "id": "911ee10d",
   "metadata": {},
   "outputs": [
    {
     "name": "stdout",
     "output_type": "stream",
     "text": [
      "{'name': 'Luke Skywalker', 'height': '172', 'mass': '77', 'hair_color': 'blond', 'skin_color': 'fair', 'eye_color': 'blue', 'birth_year': '19BBY', 'gender': 'male', 'homeworld': 'https://swapi.dev/api/planets/1/', 'films': ['https://swapi.dev/api/films/1/', 'https://swapi.dev/api/films/2/', 'https://swapi.dev/api/films/3/', 'https://swapi.dev/api/films/6/'], 'species': [], 'vehicles': ['https://swapi.dev/api/vehicles/14/', 'https://swapi.dev/api/vehicles/30/'], 'starships': ['https://swapi.dev/api/starships/12/', 'https://swapi.dev/api/starships/22/'], 'created': '2014-12-09T13:50:51.644000Z', 'edited': '2014-12-20T21:17:56.891000Z', 'url': 'https://swapi.dev/api/people/1/'}\n"
     ]
    }
   ],
   "source": [
    "import requests\n",
    "request = requests.get(\"https://swapi.dev/api/people/1/\")\n",
    "dic = request.json()\n",
    "\n",
    "print(dic)"
   ]
  },
  {
   "cell_type": "code",
   "execution_count": 4,
   "id": "8cc19582",
   "metadata": {},
   "outputs": [
    {
     "name": "stdout",
     "output_type": "stream",
     "text": [
      "name Luke Skywalker\n",
      "height 172\n",
      "mass 77\n",
      "hair_color blond\n",
      "skin_color fair\n",
      "eye_color blue\n",
      "birth_year 19BBY\n",
      "gender male\n",
      "homeworld https://swapi.dev/api/planets/1/\n",
      "films ['https://swapi.dev/api/films/1/', 'https://swapi.dev/api/films/2/', 'https://swapi.dev/api/films/3/', 'https://swapi.dev/api/films/6/']\n",
      "species []\n",
      "vehicles ['https://swapi.dev/api/vehicles/14/', 'https://swapi.dev/api/vehicles/30/']\n",
      "starships ['https://swapi.dev/api/starships/12/', 'https://swapi.dev/api/starships/22/']\n",
      "created 2014-12-09T13:50:51.644000Z\n",
      "edited 2014-12-20T21:17:56.891000Z\n",
      "url https://swapi.dev/api/people/1/\n"
     ]
    }
   ],
   "source": [
    "for i,y in dic.items():\n",
    "    print(i,y)"
   ]
  },
  {
   "cell_type": "code",
   "execution_count": 5,
   "id": "6ca18213",
   "metadata": {},
   "outputs": [
    {
     "name": "stdout",
     "output_type": "stream",
     "text": [
      "Luke Skywalker is 172 cm tall and weighs 77kg. He was born in 19BBY\n"
     ]
    }
   ],
   "source": [
    "dicnew = {'name': 'Luke Skywalker', 'height': '172', 'mass': '77','birth_year': '19BBY'}\n",
    "\n",
    "print(\"{name} is {height} cm tall and weighs {mass}kg. He was born in {birth_year}\".format(**dicnew))"
   ]
  },
  {
   "cell_type": "markdown",
   "id": "3f4c500b",
   "metadata": {},
   "source": [
    "#### Exercise 2.2"
   ]
  },
  {
   "cell_type": "code",
   "execution_count": 6,
   "id": "88779fc9",
   "metadata": {},
   "outputs": [
    {
     "name": "stdout",
     "output_type": "stream",
     "text": [
      "{'name': 'Leia Organa', 'height': '150', 'mass': '49', 'hair_color': 'brown', 'skin_color': 'light', 'eye_color': 'brown', 'birth_year': '19BBY', 'gender': 'female', 'homeworld': 'https://swapi.dev/api/planets/2/', 'films': ['https://swapi.dev/api/films/1/', 'https://swapi.dev/api/films/2/', 'https://swapi.dev/api/films/3/', 'https://swapi.dev/api/films/6/'], 'species': [], 'vehicles': ['https://swapi.dev/api/vehicles/30/'], 'starships': [], 'created': '2014-12-10T15:20:09.791000Z', 'edited': '2014-12-20T21:17:50.315000Z', 'url': 'https://swapi.dev/api/people/5/'}\n"
     ]
    }
   ],
   "source": [
    "import requests\n",
    "request = requests.get(\"https://swapi.dev/api/people/5/\")\n",
    "dic = request.json()\n",
    "\n",
    "print (dic)\n",
    "\n",
    "#I dont see any problem :)"
   ]
  },
  {
   "cell_type": "markdown",
   "id": "39682523",
   "metadata": {},
   "source": [
    "#### Exercise 3.1"
   ]
  },
  {
   "cell_type": "code",
   "execution_count": 7,
   "id": "89c5b095",
   "metadata": {},
   "outputs": [
    {
     "name": "stdout",
     "output_type": "stream",
     "text": [
      "156.0\n"
     ]
    }
   ],
   "source": [
    "#Question 1+2\n",
    "\n",
    "kilometres_travelled = [50, 10, 100, 25, 1000, 21, 12,30]\n",
    "\n",
    "total_average = 0\n",
    "\n",
    "for km in kilometres_travelled:\n",
    "    total_average+=km\n",
    "\n",
    "print(total_average/len(kilometres_travelled))"
   ]
  },
  {
   "cell_type": "code",
   "execution_count": 8,
   "id": "09502b8f",
   "metadata": {},
   "outputs": [
    {
     "data": {
      "text/plain": [
       "320.16050662128833"
      ]
     },
     "execution_count": 8,
     "metadata": {},
     "output_type": "execute_result"
    }
   ],
   "source": [
    "#Question 3\n",
    "#No.The variance is very high as there are some outliers within the group.\n",
    "\n",
    "import numpy as np\n",
    "\n",
    "np.std (kilometres_travelled)"
   ]
  },
  {
   "cell_type": "code",
   "execution_count": 9,
   "id": "39246198",
   "metadata": {},
   "outputs": [
    {
     "name": "stdout",
     "output_type": "stream",
     "text": [
      "Average km travelled is 35.4\n",
      "The std dev is  29.1\n"
     ]
    }
   ],
   "source": [
    "#Question 4\n",
    "\n",
    "import numpy as np\n",
    "\n",
    "#two ways for 3.4, we could use the median as per below, which seems to be a better \n",
    "#representation of the majority users way to work\n",
    "\n",
    "#we could also exclude the outlier 1000 to get a more meaningful average\n",
    "\n",
    "kilometres_travelled = [50, 10, 100, 25, 1000, 21, 12,30]\n",
    "kilometres_travelled.remove(1000)\n",
    "\n",
    "print(\"Average km travelled is\", np.average (kilometres_travelled).round(1))\n",
    "print (\"The std dev is \", np.std(kilometres_travelled).round(1))"
   ]
  },
  {
   "cell_type": "markdown",
   "id": "a597e1e6",
   "metadata": {},
   "source": [
    "### Exercise 4."
   ]
  },
  {
   "cell_type": "code",
   "execution_count": 10,
   "id": "13a11c76",
   "metadata": {},
   "outputs": [
    {
     "name": "stdout",
     "output_type": "stream",
     "text": [
      "Lets start with a simple function: 88817841970012523233890533447265625\n"
     ]
    }
   ],
   "source": [
    "def sqrt (x):\n",
    "    return x**x\n",
    "\n",
    "print (\"Lets start with a simple function:\", sqrt(25))"
   ]
  },
  {
   "cell_type": "markdown",
   "id": "993d7664",
   "metadata": {},
   "source": [
    "### Exercise 4.2"
   ]
  },
  {
   "cell_type": "code",
   "execution_count": 11,
   "id": "ee2510dd",
   "metadata": {},
   "outputs": [
    {
     "name": "stdout",
     "output_type": "stream",
     "text": [
      "Enter investment: 10\n",
      "Enter duration of investment: 10\n",
      "Enter interest rate: 10\n",
      "Your networth will be 25.94 EUR\n"
     ]
    }
   ],
   "source": [
    "def networth():\n",
    "    try:\n",
    "        amount = int(input(\"Enter investment: \"))\n",
    "        years = int(input(\"Enter duration of investment: \"))\n",
    "        interest = (int(input(\"Enter interest rate: \")))/100\n",
    "             \n",
    "    except:\n",
    "        print (\"Error occured, please only use numbers and no percentages\")\n",
    "        \n",
    "    else:\n",
    "        return round(amount*((1+interest)**years),2)        \n",
    "\n",
    "print(\"Your networth will be\", networth(), \"EUR\")"
   ]
  },
  {
   "cell_type": "markdown",
   "id": "3175296a",
   "metadata": {},
   "source": [
    "### Exercise 5.1"
   ]
  },
  {
   "cell_type": "code",
   "execution_count": 78,
   "id": "9ef3e9ed",
   "metadata": {},
   "outputs": [
    {
     "data": {
      "text/plain": [
       "6"
      ]
     },
     "execution_count": 78,
     "metadata": {},
     "output_type": "execute_result"
    }
   ],
   "source": [
    "class math():\n",
    "    \n",
    "    def square(x):\n",
    "        return x**x\n",
    "    \n",
    "    def avg(lst):\n",
    "        return sum(lst)/len(lst)\n",
    "    \n",
    "    def even(x):\n",
    "        print (x, \"is\", \"even\" if x%2 == 0 else \"odd\")\n",
    "    \n",
    "    def sumlst(lst):\n",
    "        return sum(lst)  \n",
    "     \n",
    "math.sumlst(lst=[1,2,3])"
   ]
  },
  {
   "cell_type": "markdown",
   "id": "09d21395",
   "metadata": {},
   "source": [
    "### Challenge "
   ]
  },
  {
   "cell_type": "markdown",
   "id": "526f3eb6",
   "metadata": {},
   "source": [
    "Let us think in a smart way of estimating  𝜋 . We know that the area of a circle is given by  𝐴=𝜋𝑟2  where  𝑟  is its radius. Let us assume that the radius is 1. Let us also assume that we generate a huge collection of random pairs where each coordinates are between 0 and 1. If you count the number of these points in the plane that fall inside the corresponding part of the circle which portion of the circle are we actually thinking of? Make a drawing. Afterwards the proportion between the number of these points and the total number of points that were drawn give you surely an approximation of a certain part of the circle. How do you use that in order to estimate  𝜋 ?\n",
    "\n",
    "Draw and sketch a solution.\n",
    "Formulate the problem using a loop. Think of the geometry of the circle and import the random library in order to draw random numbers as asked above.\n",
    "Design a function that takes 𝑛 total number of elements of the random collection that it is used to estimate 𝜋."
   ]
  },
  {
   "cell_type": "code",
   "execution_count": 124,
   "id": "f1a8c948",
   "metadata": {},
   "outputs": [
    {
     "name": "stdout",
     "output_type": "stream",
     "text": [
      "The value of pi:  3.1415916535897743\n"
     ]
    }
   ],
   "source": [
    "import random\n",
    "\n",
    "k = 1\n",
    "add = 0\n",
    "for num in range(1000000):\n",
    "    if num%2 == 0:\n",
    "        add = add + (4/k)\n",
    "    else:\n",
    "        add = add - (4/k)\n",
    "    k += 2\n",
    "print(\"The value of pi: \", add)\n"
   ]
  },
  {
   "cell_type": "code",
   "execution_count": null,
   "id": "19043ee8",
   "metadata": {},
   "outputs": [],
   "source": []
  },
  {
   "cell_type": "code",
   "execution_count": null,
   "id": "36d4f375",
   "metadata": {},
   "outputs": [],
   "source": []
  },
  {
   "cell_type": "code",
   "execution_count": null,
   "id": "69edfe14",
   "metadata": {},
   "outputs": [],
   "source": []
  }
 ],
 "metadata": {
  "kernelspec": {
   "display_name": "Python 3 (ipykernel)",
   "language": "python",
   "name": "python3"
  },
  "language_info": {
   "codemirror_mode": {
    "name": "ipython",
    "version": 3
   },
   "file_extension": ".py",
   "mimetype": "text/x-python",
   "name": "python",
   "nbconvert_exporter": "python",
   "pygments_lexer": "ipython3",
   "version": "3.9.12"
  }
 },
 "nbformat": 4,
 "nbformat_minor": 5
}
